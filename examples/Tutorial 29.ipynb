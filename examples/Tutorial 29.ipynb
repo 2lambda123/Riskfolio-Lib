{
 "cells": [
  {
   "cell_type": "markdown",
   "metadata": {},
   "source": [
    "# Riskfolio-Lib Tutorial: \n",
    "<br>__[Financionerioncios](https://financioneroncios.wordpress.com)__\n",
    "<br>__[Orenji](https://www.orenj-i.net)__\n",
    "<br>__[Riskfolio-Lib](https://riskfolio-lib.readthedocs.io/en/latest/)__\n",
    "<br>__[Dany Cajas](https://www.linkedin.com/in/dany-cajas/)__\n",
    "<a href='https://ko-fi.com/B0B833SXD' target='_blank'><img height='36' style='border:0px;height:36px;' src='https://cdn.ko-fi.com/cdn/kofi1.png?v=2' border='0' alt='Buy Me a Coffee at ko-fi.com' /></a> \n",
    "\n",
    "## Tutorial 29: Hierarchical Risk Parity (HRP) Portfolio Optimization with Constraints\n",
    "\n",
    "## 1. Downloading the data:"
   ]
  },
  {
   "cell_type": "code",
   "execution_count": null,
   "metadata": {},
   "outputs": [
    {
     "name": "stdout",
     "output_type": "stream",
     "text": [
      "[************          24%                       ]  6 of 25 completed"
     ]
    }
   ],
   "source": [
    "import numpy as np\n",
    "import pandas as pd\n",
    "import yfinance as yf\n",
    "import warnings\n",
    "\n",
    "warnings.filterwarnings(\"ignore\")\n",
    "pd.options.display.float_format = '{:.4%}'.format\n",
    "\n",
    "# Date range\n",
    "start = '2016-01-01'\n",
    "end = '2019-12-30'\n",
    "\n",
    "# Tickers of assets\n",
    "assets = ['JCI', 'TGT', 'CMCSA', 'CPB', 'MO', 'APA', 'MMC', 'JPM',\n",
    "          'ZION', 'PSA', 'BAX', 'BMY', 'LUV', 'PCAR', 'TXT', 'TMO',\n",
    "          'DE', 'MSFT', 'HPQ', 'SEE', 'VZ', 'CNP', 'NI', 'T', 'BA']\n",
    "assets.sort()\n",
    "\n",
    "# Downloading data\n",
    "data = yf.download(assets, start = start, end = end)\n",
    "data = data.loc[:,('Adj Close', slice(None))]\n",
    "data.columns = assets"
   ]
  },
  {
   "cell_type": "code",
   "execution_count": null,
   "metadata": {},
   "outputs": [],
   "source": [
    "# Calculating returns\n",
    "\n",
    "Y = data[assets].pct_change().dropna()\n",
    "\n",
    "display(Y.head())"
   ]
  },
  {
   "cell_type": "code",
   "execution_count": null,
   "metadata": {},
   "outputs": [],
   "source": [
    "import riskfolio as rp\n",
    "\n",
    "# Plotting Assets Clusters\n",
    "\n",
    "ax = rp.plot_dendrogram(returns=Y,\n",
    "                        codependence='pearson',\n",
    "                        linkage='single',\n",
    "                        k=None,\n",
    "                        max_k=10,\n",
    "                        leaf_order=True,\n",
    "                        ax=None)"
   ]
  },
  {
   "cell_type": "markdown",
   "metadata": {},
   "source": [
    "The dendrogram above suggest that optimal number of clusters are four. However HRP portfolios don't use a number of clusters as input.\n",
    "\n",
    "## 2. Estimating HRP Portfolio\n",
    "\n",
    "This is the original model proposed by López de Prado (2016). Riskfolio-Lib expand this model to 14 risk measures.\n",
    "\n",
    "### 2.1 Calculating the HRP portfolio"
   ]
  },
  {
   "cell_type": "code",
   "execution_count": null,
   "metadata": {},
   "outputs": [],
   "source": [
    "# Building the portfolio object\n",
    "port = rp.HCPortfolio(returns=Y)\n",
    "\n",
    "# Estimate optimal portfolio:\n",
    "\n",
    "model = 'HRP' # Could be HRP or HERC\n",
    "codependence = 'pearson' # Correlation matrix used to group assets in clusters\n",
    "rm = 'MV' # Risk measure used, this time will be variance\n",
    "rf = 0 # Risk free rate\n",
    "linkage = 'single' # Linkage method used to build clusters\n",
    "max_k = 10 # Max number of clusters used in two difference gap statistic, only for HERC model\n",
    "leaf_order = True # Consider optimal order of leafs in dendrogram\n",
    "\n",
    "w = port.optimization(model=model,\n",
    "                      codependence=codependence,\n",
    "                      rm=rm,\n",
    "                      rf=rf,\n",
    "                      linkage=linkage,\n",
    "                      max_k=max_k,\n",
    "                      leaf_order=leaf_order)\n",
    "\n",
    "display(w.T)"
   ]
  },
  {
   "cell_type": "markdown",
   "metadata": {},
   "source": [
    "### 2.2 Plotting portfolio composition"
   ]
  },
  {
   "cell_type": "code",
   "execution_count": null,
   "metadata": {
    "scrolled": false
   },
   "outputs": [],
   "source": [
    "# Plotting the composition of the portfolio\n",
    "\n",
    "ax = rp.plot_pie(w=w,\n",
    "                 title='HRP Naive Risk Parity',\n",
    "                 others=0.05,\n",
    "                 nrow=25,\n",
    "                 cmap=\"tab20\",\n",
    "                 height=8,\n",
    "                 width=10,\n",
    "                 ax=None)"
   ]
  },
  {
   "cell_type": "markdown",
   "metadata": {},
   "source": [
    "### 2.3 Plotting Risk Contribution"
   ]
  },
  {
   "cell_type": "code",
   "execution_count": null,
   "metadata": {},
   "outputs": [],
   "source": [
    "# Plotting the risk contribution per asset\n",
    "\n",
    "mu = Y.mean()\n",
    "cov = Y.cov() # Covariance matrix\n",
    "returns = Y # Returns of the assets\n",
    "\n",
    "ax = rp.plot_risk_con(w=w,\n",
    "                      cov=cov,\n",
    "                      returns=returns,\n",
    "                      rm=rm,\n",
    "                      rf=0,\n",
    "                      alpha=0.05,\n",
    "                      color=\"tab:blue\",\n",
    "                      height=6,\n",
    "                      width=10,\n",
    "                      t_factor=252,\n",
    "                      ax=None)"
   ]
  },
  {
   "cell_type": "markdown",
   "metadata": {},
   "source": [
    "## 3. Estimating HRP Portfolio with Constraints\n",
    "\n",
    "This is a modification of HRP model proposed by Johann Pfitzinger & Nico Katzke (2019).\n",
    "\n",
    "### 3.1 Building the HRP portfolio constraints"
   ]
  },
  {
   "cell_type": "code",
   "execution_count": null,
   "metadata": {},
   "outputs": [],
   "source": [
    "asset_classes = {'Assets': ['JCI','TGT','CMCSA','CPB','MO','APA','MMC','JPM',\n",
    "                            'ZION','PSA','BAX','BMY','LUV','PCAR','TXT','TMO',\n",
    "                            'DE','MSFT','HPQ','SEE','VZ','CNP','NI','T','BA'], \n",
    "                 'Industry': ['Consumer Discretionary','Consumer Discretionary',\n",
    "                              'Consumer Discretionary', 'Consumer Staples',\n",
    "                              'Consumer Staples','Energy','Financials',\n",
    "                              'Financials','Financials','Financials',\n",
    "                              'Health Care','Health Care','Industrials','Industrials',\n",
    "                              'Industrials','Health care','Industrials',\n",
    "                              'Information Technology','Information Technology',\n",
    "                              'Materials','Telecommunications Services','Utilities',\n",
    "                              'Utilities','Telecommunications Services','Financials']}\n",
    "\n",
    "asset_classes = pd.DataFrame(asset_classes)\n",
    "asset_classes = asset_classes.sort_values(by=['Assets'])\n",
    "\n",
    "constraints = {'Disabled': [False, False, False, False, False],\n",
    "               'Type': ['Assets', 'Assets', 'All Assets', \n",
    "                        'Each asset in a class', 'Each asset in a class'],\n",
    "               'Set': ['', '', '','Industry', 'Industry'],\n",
    "               'Position': ['HPQ', 'PSA', '', 'Financials', 'Information Technology'],\n",
    "               'Sign': ['>=', '<=', '<=', '<=', '<='],\n",
    "               'Weight': [0.03, 0.05, 0.06, 0.04, 0.02]}\n",
    "\n",
    "constraints = pd.DataFrame(constraints)\n",
    "\n",
    "display(constraints)"
   ]
  },
  {
   "cell_type": "markdown",
   "metadata": {},
   "source": [
    "### 3.2 Calculating the HRP portfolio with constraints"
   ]
  },
  {
   "cell_type": "code",
   "execution_count": null,
   "metadata": {},
   "outputs": [],
   "source": [
    "# Estimate optimal portfolio with constraints:\n",
    "\n",
    "w_max, w_min = rp.hrp_constraints(constraints, asset_classes)\n",
    "\n",
    "port.w_max = w_max\n",
    "port.w_min = w_min\n",
    "\n",
    "w_1 = port.optimization(model=model,\n",
    "                        codependence=codependence,\n",
    "                        rm=rm,\n",
    "                        rf=rf,\n",
    "                        linkage=linkage,\n",
    "                        max_k=max_k,\n",
    "                        leaf_order=leaf_order)\n",
    "\n",
    "display(w_1.T)"
   ]
  },
  {
   "cell_type": "markdown",
   "metadata": {},
   "source": [
    "### 3.3 Plotting portfolio composition"
   ]
  },
  {
   "cell_type": "code",
   "execution_count": null,
   "metadata": {},
   "outputs": [],
   "source": [
    "# Plotting the composition of the portfolio with constraints\n",
    "\n",
    "ax = rp.plot_pie(w=w_1,\n",
    "                 title='HRP Naive Risk Parity',\n",
    "                 others=0.05,\n",
    "                 nrow=25,\n",
    "                 cmap=\"tab20\",\n",
    "                 height=8,\n",
    "                 width=10,\n",
    "                 ax=None)"
   ]
  },
  {
   "cell_type": "markdown",
   "metadata": {},
   "source": [
    "### 3.4 Plotting Risk Contribution"
   ]
  },
  {
   "cell_type": "code",
   "execution_count": null,
   "metadata": {},
   "outputs": [],
   "source": [
    "# Plotting the risk contribution per asset\n",
    "\n",
    "mu = Y.mean()\n",
    "cov = Y.cov() # Covariance matrix\n",
    "returns = Y # Returns of the assets\n",
    "\n",
    "ax = rp.plot_risk_con(w=w_1,\n",
    "                      cov=cov,\n",
    "                      returns=returns,\n",
    "                      rm=rm,\n",
    "                      rf=0,\n",
    "                      alpha=0.05,\n",
    "                      color=\"tab:blue\",\n",
    "                      height=6,\n",
    "                      width=10,\n",
    "                      t_factor=252,\n",
    "                      ax=None)"
   ]
  }
 ],
 "metadata": {
  "kernelspec": {
   "display_name": "Python 3",
   "language": "python",
   "name": "python3"
  },
  "language_info": {
   "codemirror_mode": {
    "name": "ipython",
    "version": 3
   },
   "file_extension": ".py",
   "mimetype": "text/x-python",
   "name": "python",
   "nbconvert_exporter": "python",
   "pygments_lexer": "ipython3",
   "version": "3.8.10"
  }
 },
 "nbformat": 4,
 "nbformat_minor": 4
}
