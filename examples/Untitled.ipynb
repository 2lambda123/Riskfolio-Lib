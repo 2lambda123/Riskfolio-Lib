{
 "cells": [
  {
   "cell_type": "markdown",
   "metadata": {},
   "source": [
    "[![PyPi](https://img.shields.io/pypi/v/Riskfolio-Lib.svg)]((https://pypi.org/project/Riskfolio-Lib/))\n",
    "[![Python](https://img.shields.io/pypi/pyversions/Riskfolio-Lib.svg)]((https://pypi.org/project/Riskfolio-Lib/))\n",
    "[![Documentation Status](https://readthedocs.org/projects/riskfolio-lib/badge/?version=latest)](https://riskfolio-lib.readthedocs.io/en/latest/)\n",
    "[![GitHub issues](https://img.shields.io/github/issues/dcajasn/Riskfolio-Lib)](https://github.com/dcajasn/Riskfolio-Lib/issues)\n",
    "[![GitHub license](https://img.shields.io/github/license/dcajasn/Riskfolio-Lib)](https://github.com/dcajasn/Riskfolio-Lib/blob/master/LICENSE.txt)\n",
    "[![Binder](https://mybinder.org/badge_logo.svg)](https://mybinder.org/v2/gh/dcajasn/Riskfolio-Lib/HEAD)\n",
    "\n",
    "<a href=\"https://github.com/dcajasn/Riskfolio-Lib/graphs/commit-activity\">\n",
    "        <img src=\"https://img.shields.io/badge/Maintained%3F-yes-brightgreen.svg\"\n",
    "            alt=\"issues\"></a>\n",
    "\n",
    "[![GitHub stars](https://img.shields.io/github/stars/dcajasn/Riskfolio-Lib?style=social)](https://github.com/dcajasn/Riskfolio-Lib/stargazers)"
   ]
  },
  {
   "cell_type": "code",
   "execution_count": null,
   "metadata": {},
   "outputs": [],
   "source": []
  }
 ],
 "metadata": {
  "kernelspec": {
   "display_name": "Python 3",
   "language": "python",
   "name": "python3"
  },
  "language_info": {
   "codemirror_mode": {
    "name": "ipython",
    "version": 3
   },
   "file_extension": ".py",
   "mimetype": "text/x-python",
   "name": "python",
   "nbconvert_exporter": "python",
   "pygments_lexer": "ipython3",
   "version": "3.8.5"
  }
 },
 "nbformat": 4,
 "nbformat_minor": 4
}
