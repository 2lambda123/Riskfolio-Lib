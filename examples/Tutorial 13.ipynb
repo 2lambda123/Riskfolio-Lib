{
 "cells": [
  {
   "cell_type": "markdown",
   "metadata": {},
   "source": [
    "# Riskfolio-Lib Tutorial: \n",
    "<br>__[Financionerioncios](https://financioneroncios.wordpress.com)__\n",
    "<br>__[Orenji](https://www.orenj-i.net)__\n",
    "<br>__[Riskfolio-Lib](https://riskfolio-lib.readthedocs.io/en/latest/)__\n",
    "<br>__[Dany Cajas](https://www.linkedin.com/in/dany-cajas/)__\n",
    "## Part XIII: Riskfolio-Lib and Xlwings\n",
    "\n",
    "## 1. Downloading the data:"
   ]
  },
  {
   "cell_type": "code",
   "execution_count": null,
   "metadata": {},
   "outputs": [
    {
     "name": "stdout",
     "output_type": "stream",
     "text": [
      "[**********************62%*****                  ]  15 of 24 completed"
     ]
    }
   ],
   "source": [
    "import numpy as np\n",
    "import pandas as pd\n",
    "import yfinance as yf\n",
    "import warnings\n",
    "\n",
    "warnings.filterwarnings(\"ignore\")\n",
    "\n",
    "yf.pdr_override()\n",
    "pd.options.display.float_format = '{:.4%}'.format\n",
    "\n",
    "# Date range\n",
    "start = '2016-01-01'\n",
    "end = '2019-12-30'\n",
    "\n",
    "# Tickers of assets\n",
    "assets = ['JCI', 'TGT', 'CMCSA', 'CPB', 'MO', 'NBL', 'APA', 'MMC', 'JPM',\n",
    "          'ZION', 'PSA', 'BAX', 'BMY', 'LUV', 'PCAR', 'TXT', 'DHR',\n",
    "          'DE', 'MSFT', 'HPQ', 'SEE', 'VZ', 'CNP', 'NI']\n",
    "assets.sort()\n",
    "\n",
    "# Downloading data\n",
    "data = yf.download(assets, start = start, end = end)\n",
    "data = data.loc[:,('Adj Close', slice(None))]\n",
    "data.columns = assets"
   ]
  },
  {
   "cell_type": "code",
   "execution_count": null,
   "metadata": {},
   "outputs": [],
   "source": [
    "# Calculating returns\n",
    "\n",
    "Y = data[assets].pct_change().dropna()\n",
    "\n",
    "display(Y.head())"
   ]
  },
  {
   "cell_type": "markdown",
   "metadata": {},
   "source": [
    "## 2. Estimating Mean Variance Portfolios\n",
    "\n",
    "### 2.1 Calculating the portfolio that maximizes Sharpe ratio."
   ]
  },
  {
   "cell_type": "code",
   "execution_count": null,
   "metadata": {},
   "outputs": [],
   "source": [
    "import riskfolio.Portfolio as pf\n",
    "\n",
    "# Building the portfolio object\n",
    "port = pf.Portfolio(returns=Y)\n",
    "# Calculating optimum portfolio\n",
    "\n",
    "# Select method and estimate input parameters:\n",
    "\n",
    "method_mu='hist' # Method to estimate expected returns based on historical data.\n",
    "method_cov='hist' # Method to estimate covariance matrix based on historical data.\n",
    "\n",
    "port.assets_stats(method_mu=method_mu, method_cov=method_cov, d=0.94)\n",
    "\n",
    "# Estimate optimal portfolio:\n",
    "\n",
    "model='Classic' # Could be Classic (historical), BL (Black Litterman) or FM (Factor Model)\n",
    "rm = 'MV' # Risk measure used, this time will be variance\n",
    "obj = 'Sharpe' # Objective function, could be MinRisk, MaxRet, Utility or Sharpe\n",
    "hist = True # Use historical scenarios for risk measures that depend on scenarios\n",
    "rf = 0 # Risk free rate\n",
    "l = 0 # Risk aversion factor, only useful when obj is 'Utility'\n",
    "\n",
    "w = port.optimization(model=model, rm=rm, obj=obj, rf=rf, l=l, hist=hist)\n",
    "\n",
    "display(w.T)"
   ]
  },
  {
   "cell_type": "markdown",
   "metadata": {},
   "source": [
    "### 2.2 Plotting portfolio composition"
   ]
  },
  {
   "cell_type": "code",
   "execution_count": null,
   "metadata": {
    "scrolled": false
   },
   "outputs": [],
   "source": [
    "import matplotlib.pyplot as plt\n",
    "import riskfolio.PlotFunctions as plf\n",
    "\n",
    "# Plotting the composition of the portfolio\n",
    "\n",
    "fig_1, ax_1 = plt.subplots(figsize=(10,6))\n",
    "\n",
    "ax_1 = plf.plot_pie(w=w, title='Sharpe Mean Variance', others=0.05, nrow=25, cmap = \"tab20\",\n",
    "                    height=6, width=10, ax=ax_1)"
   ]
  },
  {
   "cell_type": "markdown",
   "metadata": {},
   "source": [
    "### 2.3 Calculate efficient frontier"
   ]
  },
  {
   "cell_type": "code",
   "execution_count": null,
   "metadata": {},
   "outputs": [],
   "source": [
    "points = 50 # Number of points of the frontier\n",
    "\n",
    "frontier = port.efficient_frontier(model=model, rm=rm, points=points, rf=rf, hist=hist)\n",
    "\n",
    "display(frontier.T.head())"
   ]
  },
  {
   "cell_type": "code",
   "execution_count": null,
   "metadata": {},
   "outputs": [],
   "source": [
    "# Plotting the efficient frontier\n",
    "\n",
    "label = 'Max Risk Adjusted Return Portfolio' # Title of point\n",
    "mu = port.mu # Expected returns\n",
    "cov = port.cov # Covariance matrix\n",
    "returns = port.returns # Returns of the assets\n",
    "\n",
    "fig_2, ax_2 = plt.subplots(figsize=(10,6))\n",
    "\n",
    "plf.plot_frontier(w_frontier=frontier, mu=mu, cov=cov, returns=returns, rm=rm,\n",
    "                  rf=rf, alpha=0.01, cmap='viridis', w=w, label=label,\n",
    "                  marker='*', s=16, c='r', height=6, width=10, ax=ax_2)"
   ]
  },
  {
   "cell_type": "code",
   "execution_count": null,
   "metadata": {},
   "outputs": [],
   "source": [
    "# Plotting efficient frontier composition\n",
    "\n",
    "fig_3, ax_3 = plt.subplots(figsize=(10,6))\n",
    "\n",
    "plf.plot_frontier_area(w_frontier=frontier, cmap=\"tab20\", height=6, width=10, ax=ax_3)"
   ]
  },
  {
   "attachments": {},
   "cell_type": "markdown",
   "metadata": {},
   "source": [
    "## 3. Combining Riskfolio-Lib and Xlwings\n",
    "\n",
    "### 3.1 Creating an Empty Excel Workbook"
   ]
  },
  {
   "cell_type": "code",
   "execution_count": null,
   "metadata": {},
   "outputs": [],
   "source": [
    "import xlwings as xw\n",
    "\n",
    "# Creating an empty Excel Workbook\n",
    "\n",
    "wb = xw.Book()  \n",
    "sheet1 = wb.sheets[0]\n",
    "sheet1.name = 'Charts'\n",
    "sheet2 = wb.sheets.add('Frontier')\n",
    "sheet3 = wb.sheets.add('Optimal Weights')"
   ]
  },
  {
   "cell_type": "markdown",
   "metadata": {},
   "source": [
    "### 3.2 Adding Pictures to Sheet 1"
   ]
  },
  {
   "cell_type": "code",
   "execution_count": null,
   "metadata": {},
   "outputs": [],
   "source": [
    "sheet1.pictures.add(fig_1, name = \"Weights\",\n",
    "                    update = True, \n",
    "                    top = sheet1.range(\"A1\").top,\n",
    "                    left = sheet1.range(\"A1\").left)\n",
    "\n",
    "sheet1.pictures.add(fig_2, name = \"Frontier\",\n",
    "                    update = True, \n",
    "                    top = sheet1.range(\"M1\").top,\n",
    "                    left = sheet1.range(\"M1\").left)\n",
    "\n",
    "sheet1.pictures.add(fig_3, name = \"Composition\",\n",
    "                    update = True, \n",
    "                    top = sheet1.range(\"A30\").top,\n",
    "                    left = sheet1.range(\"A30\").left)"
   ]
  },
  {
   "cell_type": "markdown",
   "metadata": {},
   "source": [
    "<img src=\"https://raw.githubusercontent.com/dcajasn/Riskfolio-Lib/master/examples/Fig1.png\">"
   ]
  },
  {
   "cell_type": "markdown",
   "metadata": {},
   "source": [
    "### 3.2 Adding Data to Sheet 2 and Sheet 3"
   ]
  },
  {
   "cell_type": "code",
   "execution_count": null,
   "metadata": {},
   "outputs": [],
   "source": [
    "# Writing the weights of the frontier in the Excel Workbook\n",
    "\n",
    "sheet2.range('A1').value = frontier.applymap('{:.6%}'.format)\n",
    "\n",
    "# Writing the optimal weights in the Excel Workbook\n",
    "\n",
    "sheet3.range('A1').value = w.applymap('{:.6%}'.format)"
   ]
  },
  {
   "cell_type": "markdown",
   "metadata": {},
   "source": [
    "<img src=\"https://raw.githubusercontent.com/dcajasn/Riskfolio-Lib/master/examples/Fig2.png\">\n",
    "<img src=\"https://raw.githubusercontent.com/dcajasn/Riskfolio-Lib/master/examples/Fig3.png\">"
   ]
  }
 ],
 "metadata": {
  "kernelspec": {
   "display_name": "Python 3",
   "language": "python",
   "name": "python3"
  },
  "language_info": {
   "codemirror_mode": {
    "name": "ipython",
    "version": 3
   },
   "file_extension": ".py",
   "mimetype": "text/x-python",
   "name": "python",
   "nbconvert_exporter": "python",
   "pygments_lexer": "ipython3",
   "version": "3.8.5"
  }
 },
 "nbformat": 4,
 "nbformat_minor": 4
}
